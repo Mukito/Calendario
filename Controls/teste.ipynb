{
 "cells": [
  {
   "cell_type": "code",
   "execution_count": 2,
   "metadata": {},
   "outputs": [],
   "source": [
    "import flet as ft\n",
    "\n",
    "def main(page: ft.Page):\n",
    "    page.title = \"Flet counter example\"\n",
    "    page.vertical_alignment = ft.MainAxisAlignment.CENTER\n",
    "\n",
    "    txt_number = ft.TextField(value=\"0\", text_align=ft.TextAlign.RIGHT, width=100)\n",
    "\n",
    "    def minus_click(e):\n",
    "        txt_number.value = str(int(txt_number.value) - 1)\n",
    "        page.update()\n",
    "\n",
    "    def plus_click(e):\n",
    "        txt_number.value = str(int(txt_number.value) + 1)\n",
    "        page.update()\n",
    "\n",
    "    page.add(\n",
    "        ft.Row(\n",
    "            [\n",
    "                ft.IconButton(ft.icons.REMOVE, on_click=minus_click),\n",
    "                txt_number,\n",
    "                ft.IconButton(ft.icons.ADD, on_click=plus_click),\n",
    "            ],\n",
    "            alignment=ft.MainAxisAlignment.CENTER,\n",
    "        )\n",
    "    )\n",
    "\n",
    "ft.app(main)"
   ]
  }
 ],
 "metadata": {
  "kernelspec": {
   "display_name": ".venv",
   "language": "python",
   "name": "python3"
  },
  "language_info": {
   "codemirror_mode": {
    "name": "ipython",
    "version": 3
   },
   "file_extension": ".py",
   "mimetype": "text/x-python",
   "name": "python",
   "nbconvert_exporter": "python",
   "pygments_lexer": "ipython3",
   "version": "3.12.5"
  }
 },
 "nbformat": 4,
 "nbformat_minor": 2
}
